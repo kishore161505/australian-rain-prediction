{
  "nbformat": 4,
  "nbformat_minor": 0,
  "metadata": {
    "colab": {
      "provenance": [],
      "gpuType": "T4"
    },
    "kernelspec": {
      "name": "python3",
      "display_name": "Python 3"
    },
    "language_info": {
      "name": "python"
    },
    "accelerator": "GPU"
  },
  "cells": [
    {
      "cell_type": "code",
      "source": [
        "!pip install opendatasets"
      ],
      "metadata": {
        "id": "BSC5-GV6g-nv"
      },
      "execution_count": null,
      "outputs": []
    },
    {
      "cell_type": "code",
      "execution_count": null,
      "metadata": {
        "id": "1pzCXTE3fDyM"
      },
      "outputs": [],
      "source": [
        "import opendatasets as od\n",
        "import matplotlib.pyplot as plt\n",
        "import seaborn as sns\n",
        "import pandas as pd\n",
        "import numpy as np\n",
        "import os\n",
        "import matplotlib\n",
        "%matplotlib inline\n",
        "\n",
        "pd.set_option('display.max_columns', None)\n",
        "pd.set_option('display.max_rows', 150)\n",
        "sns.set_style('darkgrid')\n",
        "matplotlib.rcParams['font.size'] = 14\n",
        "matplotlib.rcParams['figure.figsize']= (10, 6)\n",
        "matplotlib.rcParams['figure.facecolor'] = '#00000000'"
      ]
    },
    {
      "cell_type": "code",
      "source": [
        "od.download('https://www.kaggle.com/jsphyg/weather-dataset-rattle-package')"
      ],
      "metadata": {
        "id": "Mnew3pxVgsCA"
      },
      "execution_count": null,
      "outputs": []
    },
    {
      "cell_type": "code",
      "source": [
        "os.listdir('weather-dataset-rattle-package')"
      ],
      "metadata": {
        "id": "syMcWuaDgr-m"
      },
      "execution_count": null,
      "outputs": []
    },
    {
      "cell_type": "code",
      "source": [
        "raw_df = pd.read_csv('weather-dataset-rattle-package/weatherAUS.csv')"
      ],
      "metadata": {
        "id": "Rq-oFwUWgr7d"
      },
      "execution_count": null,
      "outputs": []
    },
    {
      "cell_type": "code",
      "source": [
        "raw_df"
      ],
      "metadata": {
        "id": "3T-d8SM9gr4i"
      },
      "execution_count": null,
      "outputs": []
    },
    {
      "cell_type": "code",
      "source": [
        "raw_df.info()"
      ],
      "metadata": {
        "id": "L7_i7o8Egr1w"
      },
      "execution_count": null,
      "outputs": []
    },
    {
      "cell_type": "code",
      "source": [
        "raw_df.dropna(subset=['RainTomorrow'], inplace=True)"
      ],
      "metadata": {
        "id": "zEvCPbc3gryh"
      },
      "execution_count": null,
      "outputs": []
    },
    {
      "cell_type": "code",
      "source": [
        "plt.title('No. of rows per year')\n",
        "sns.countplot(x= pd.to_datetime(raw_df['Date']).dt.year)"
      ],
      "metadata": {
        "id": "4HC6ABwMgrvm"
      },
      "execution_count": null,
      "outputs": []
    },
    {
      "cell_type": "code",
      "source": [
        "year = pd.to_datetime(raw_df.Date).dt.year\n",
        "\n",
        "train_df = raw_df[year < 2015]\n",
        "val_df = raw_df[year == 2015]\n",
        "test_df = raw_df[year > 2015]"
      ],
      "metadata": {
        "id": "MkR6NnnngrnH"
      },
      "execution_count": null,
      "outputs": []
    },
    {
      "cell_type": "code",
      "source": [
        "train_df.shape, val_df.shape, test_df.shape\n"
      ],
      "metadata": {
        "id": "8be0SM1XgrkY"
      },
      "execution_count": null,
      "outputs": []
    },
    {
      "cell_type": "code",
      "source": [
        "input_cols = list(train_df.columns)[1:-1]\n",
        "target_col = 'RainTomorrow'"
      ],
      "metadata": {
        "id": "CLCrkyXFgrhs"
      },
      "execution_count": null,
      "outputs": []
    },
    {
      "cell_type": "code",
      "source": [
        "train_inputs = train_df[input_cols].copy()\n",
        "train_targets = train_df[target_col].copy()\n",
        "\n",
        "val_inputs = val_df[input_cols].copy()\n",
        "val_targets = val_df[target_col].copy()\n",
        "\n",
        "test_inputs = test_df[input_cols].copy()\n",
        "test_targets = test_df[target_col].copy()"
      ],
      "metadata": {
        "id": "9gK8V5bggre4"
      },
      "execution_count": null,
      "outputs": []
    },
    {
      "cell_type": "code",
      "source": [
        "numeric_col = train_inputs.select_dtypes(include=np.number).columns.tolist()\n",
        "categorical_col = train_inputs.select_dtypes('object').columns.tolist()"
      ],
      "metadata": {
        "id": "wb5Fymt8grcP"
      },
      "execution_count": null,
      "outputs": []
    },
    {
      "cell_type": "code",
      "source": [
        "train_inputs[numeric_col].isna().sum()"
      ],
      "metadata": {
        "id": "5O4vRzFhcS8s"
      },
      "execution_count": null,
      "outputs": []
    },
    {
      "cell_type": "code",
      "source": [
        "from sklearn.impute import SimpleImputer"
      ],
      "metadata": {
        "id": "r4jSiEUD7-2Y"
      },
      "execution_count": null,
      "outputs": []
    },
    {
      "cell_type": "code",
      "source": [
        "imputer = SimpleImputer(strategy='mean').fit(raw_df[numeric_col])"
      ],
      "metadata": {
        "id": "gYSbL6H97-xk"
      },
      "execution_count": null,
      "outputs": []
    },
    {
      "cell_type": "code",
      "source": [
        "train_inputs[numeric_col] = imputer.transform(train_inputs[numeric_col])\n",
        "val_inputs[numeric_col] = imputer.transform(val_inputs[numeric_col])\n",
        "test_inputs[numeric_col] = imputer.transform(test_inputs[numeric_col])"
      ],
      "metadata": {
        "id": "IsnCw2po7-lw"
      },
      "execution_count": null,
      "outputs": []
    },
    {
      "cell_type": "code",
      "source": [
        "val_inputs[numeric_col].isna().sum()"
      ],
      "metadata": {
        "id": "A2gTmMyO7-i0"
      },
      "execution_count": null,
      "outputs": []
    },
    {
      "cell_type": "code",
      "source": [
        "from sklearn.preprocessing import MinMaxScaler"
      ],
      "metadata": {
        "id": "QcS3wyGH7-f0"
      },
      "execution_count": null,
      "outputs": []
    },
    {
      "cell_type": "code",
      "source": [
        "scaler = MinMaxScaler().fit(raw_df[numeric_col])"
      ],
      "metadata": {
        "id": "E3Njqx157-cu"
      },
      "execution_count": null,
      "outputs": []
    },
    {
      "cell_type": "code",
      "source": [
        "train_inputs[numeric_col] = scaler.transform(train_inputs[numeric_col])\n",
        "val_inputs[numeric_col] = scaler.transform(val_inputs[numeric_col])\n",
        "test_inputs[numeric_col] = scaler.transform(test_inputs[numeric_col])"
      ],
      "metadata": {
        "id": "-TwLpjT77-Zx"
      },
      "execution_count": null,
      "outputs": []
    },
    {
      "cell_type": "code",
      "source": [
        "val_inputs.describe().loc[['min', 'max']]"
      ],
      "metadata": {
        "id": "vkl7Ri2g7-Ws"
      },
      "execution_count": null,
      "outputs": []
    },
    {
      "cell_type": "code",
      "source": [
        "from sklearn.preprocessing import OneHotEncoder"
      ],
      "metadata": {
        "id": "Pjwz3IQn7-Ta"
      },
      "execution_count": null,
      "outputs": []
    },
    {
      "cell_type": "code",
      "source": [
        "train_df[categorical_col].fillna('Unknown').count()"
      ],
      "metadata": {
        "id": "hWXwXHLaeZ_J"
      },
      "execution_count": null,
      "outputs": []
    },
    {
      "cell_type": "code",
      "source": [
        "encoder = OneHotEncoder(sparse_output=False, handle_unknown='ignore').fit(raw_df[categorical_col])"
      ],
      "metadata": {
        "id": "8wpfxSHaeZ7o"
      },
      "execution_count": null,
      "outputs": []
    },
    {
      "cell_type": "code",
      "source": [
        "encoded_col = list(encoder.get_feature_names_out(categorical_col))"
      ],
      "metadata": {
        "id": "I78gckK-jsTF"
      },
      "execution_count": null,
      "outputs": []
    },
    {
      "cell_type": "code",
      "source": [
        "train_inputs[encoded_col] = encoder.transform(train_inputs[categorical_col])\n",
        "val_inputs[encoded_col] = encoder.transform(val_inputs[categorical_col])\n",
        "test_inputs[encoded_col] = encoder.transform(test_inputs[categorical_col])"
      ],
      "metadata": {
        "id": "zhTP2uLteZ25"
      },
      "execution_count": null,
      "outputs": []
    },
    {
      "cell_type": "code",
      "source": [
        "encoded_col"
      ],
      "metadata": {
        "id": "f5V8paO0eZz6"
      },
      "execution_count": null,
      "outputs": []
    },
    {
      "cell_type": "code",
      "source": [
        "test_inputs[encoded_col]"
      ],
      "metadata": {
        "id": "2Gwk6XGkeZrN"
      },
      "execution_count": null,
      "outputs": []
    },
    {
      "cell_type": "code",
      "source": [
        "X_train = train_inputs[numeric_col + encoded_col]\n",
        "X_val = val_inputs[numeric_col + encoded_col]\n",
        "X_test = test_inputs[numeric_col + encoded_col]"
      ],
      "metadata": {
        "id": "ikiGVu4heZnx"
      },
      "execution_count": null,
      "outputs": []
    },
    {
      "cell_type": "code",
      "source": [
        "X_test"
      ],
      "metadata": {
        "id": "cH2m0m_neZlH"
      },
      "execution_count": null,
      "outputs": []
    },
    {
      "cell_type": "code",
      "source": [
        "from sklearn.tree import DecisionTreeClassifier"
      ],
      "metadata": {
        "id": "FQSlqPNN7-NT"
      },
      "execution_count": null,
      "outputs": []
    },
    {
      "cell_type": "code",
      "source": [
        "model = DecisionTreeClassifier(random_state = 42)\n",
        "model.fit(X_train, train_targets)"
      ],
      "metadata": {
        "id": "lNiYmvs4lCP3"
      },
      "execution_count": null,
      "outputs": []
    },
    {
      "cell_type": "code",
      "source": [
        "from sklearn.metrics import accuracy_score, confusion_matrix"
      ],
      "metadata": {
        "id": "vF9GSaexlCMR"
      },
      "execution_count": null,
      "outputs": []
    },
    {
      "cell_type": "code",
      "source": [
        "train_preds = model.predict(X_train)"
      ],
      "metadata": {
        "id": "opTYxAOilCJV"
      },
      "execution_count": null,
      "outputs": []
    },
    {
      "cell_type": "code",
      "source": [
        "train_preds"
      ],
      "metadata": {
        "id": "oqWiiYsXlCGr"
      },
      "execution_count": null,
      "outputs": []
    },
    {
      "cell_type": "code",
      "source": [
        "pd.value_counts(train_preds)"
      ],
      "metadata": {
        "id": "ksMV9pgdlCDw"
      },
      "execution_count": null,
      "outputs": []
    },
    {
      "cell_type": "code",
      "source": [
        "train_probs = model.predict_proba(X_train)"
      ],
      "metadata": {
        "id": "rjshATcRlCBC"
      },
      "execution_count": null,
      "outputs": []
    },
    {
      "cell_type": "code",
      "source": [
        "train_probs"
      ],
      "metadata": {
        "id": "oEKpyqWqlB-n"
      },
      "execution_count": null,
      "outputs": []
    },
    {
      "cell_type": "code",
      "source": [
        "accuracy_score(train_targets, train_preds)"
      ],
      "metadata": {
        "id": "zxvqKJN85mUm"
      },
      "execution_count": null,
      "outputs": []
    },
    {
      "cell_type": "code",
      "source": [
        "model.score(X_val, val_targets)"
      ],
      "metadata": {
        "id": "z0h4fr2y5mRE"
      },
      "execution_count": null,
      "outputs": []
    },
    {
      "cell_type": "code",
      "source": [
        "val_targets.value_counts()/len(val_targets)"
      ],
      "metadata": {
        "id": "UYPINknx5mOs"
      },
      "execution_count": null,
      "outputs": []
    },
    {
      "cell_type": "code",
      "source": [
        "from sklearn.tree import plot_tree, export_text"
      ],
      "metadata": {
        "id": "OM94bg049j1N"
      },
      "execution_count": null,
      "outputs": []
    },
    {
      "cell_type": "code",
      "source": [
        "plt.figure(figsize=(80, 20))\n",
        "plot_tree(model, feature_names  = X_train.columns, max_depth =2, filled=True, fontsize=14)"
      ],
      "metadata": {
        "id": "6tvUKu7A9jxs"
      },
      "execution_count": null,
      "outputs": []
    },
    {
      "cell_type": "code",
      "source": [
        "model.tree_.max_depth"
      ],
      "metadata": {
        "id": "yDsT2BkM9jvA"
      },
      "execution_count": null,
      "outputs": []
    },
    {
      "cell_type": "code",
      "source": [
        "tree_text = export_text(model, max_depth = 10, feature_names=list(X_train.columns))\n",
        "print(tree_text)"
      ],
      "metadata": {
        "id": "MRUeosVm9jsL"
      },
      "execution_count": null,
      "outputs": []
    },
    {
      "cell_type": "code",
      "source": [
        "model.feature_importances_"
      ],
      "metadata": {
        "id": "Z6xQ9tG39jpb"
      },
      "execution_count": null,
      "outputs": []
    },
    {
      "cell_type": "code",
      "source": [
        "importance_df = pd.DataFrame({\n",
        "    'feature': X_train.columns,\n",
        "    'importance': model.feature_importances_\n",
        "})"
      ],
      "metadata": {
        "id": "lLcI_wAy9jmj"
      },
      "execution_count": null,
      "outputs": []
    },
    {
      "cell_type": "code",
      "source": [
        "importance_df"
      ],
      "metadata": {
        "id": "0d5Fdc5m9jju"
      },
      "execution_count": null,
      "outputs": []
    },
    {
      "cell_type": "code",
      "source": [
        "plt.title('Feature Importance')\n",
        "sns.barplot(importance_df.head(10), x='importance', y='feature')"
      ],
      "metadata": {
        "id": "rL0h8xyl9jgs"
      },
      "execution_count": null,
      "outputs": []
    },
    {
      "cell_type": "code",
      "source": [
        "?DecisionTreeClassifier"
      ],
      "metadata": {
        "id": "9yd6QQS99jeB"
      },
      "execution_count": null,
      "outputs": []
    },
    {
      "cell_type": "code",
      "source": [
        "model = DecisionTreeClassifier(max_depth = 3, random_state = 42)"
      ],
      "metadata": {
        "id": "KIDjZMZ99jZ9"
      },
      "execution_count": null,
      "outputs": []
    },
    {
      "cell_type": "code",
      "source": [
        "model.fit(X_train, train_targets)"
      ],
      "metadata": {
        "id": "oV3yNNVY9jWY"
      },
      "execution_count": null,
      "outputs": []
    },
    {
      "cell_type": "code",
      "source": [
        "model.score(X_train, train_targets)"
      ],
      "metadata": {
        "id": "36ibr0Zm9jTx"
      },
      "execution_count": null,
      "outputs": []
    },
    {
      "cell_type": "code",
      "source": [
        "model.score(X_val, val_targets)"
      ],
      "metadata": {
        "id": "hJmce_oC9z6K"
      },
      "execution_count": null,
      "outputs": []
    },
    {
      "cell_type": "code",
      "source": [
        "model.classes_"
      ],
      "metadata": {
        "id": "ZIHJYt549z2r"
      },
      "execution_count": null,
      "outputs": []
    },
    {
      "cell_type": "code",
      "source": [
        "plt.figure(figsize=(80, 20))\n",
        "plot_tree(model, feature_names  = X_train.columns, max_depth =3, filled=True, fontsize=14)\n"
      ],
      "metadata": {
        "id": "MvN9dgL-9zzf"
      },
      "execution_count": null,
      "outputs": []
    },
    {
      "cell_type": "code",
      "source": [
        "print(export_text(model, feature_names=list(X_train.columns)))"
      ],
      "metadata": {
        "id": "Lzvhe-t99zwt"
      },
      "execution_count": null,
      "outputs": []
    },
    {
      "cell_type": "code",
      "source": [
        "def max_depth_error(md):\n",
        "  model = DecisionTreeClassifier(max_depth=md, random_state= 42)\n",
        "  model.fit(X_train, train_targets)\n",
        "  train_acc = model.score(X_train, train_targets)\n",
        "  val_acc = model.score(X_val, val_targets)\n",
        "  return {'Max Depth': md, 'Training Error': train_acc, 'Validation Error': val_acc}"
      ],
      "metadata": {
        "id": "KX0n_G-Y_euF"
      },
      "execution_count": null,
      "outputs": []
    },
    {
      "cell_type": "code",
      "source": [
        "error_df = pd.DataFrame([max_depth_error(md) for md in range(1,21)])"
      ],
      "metadata": {
        "id": "pMwdkFLmAYGw"
      },
      "execution_count": null,
      "outputs": []
    },
    {
      "cell_type": "code",
      "source": [
        "error_df"
      ],
      "metadata": {
        "id": "ri_A-EBkAwkj"
      },
      "execution_count": null,
      "outputs": []
    },
    {
      "cell_type": "code",
      "source": [
        "plt.figure()\n",
        "plt.plot(error_df['Max Depth'], error_df['Training Error'])\n",
        "plt.plot(error_df['Max Depth'], error_df['Validation Error'])\n",
        "plt.title('Training vs. Validation Error')\n",
        "plt.xticks(range(0,21))\n",
        "plt.xlabel('Max. Depth')\n",
        "plt.ylabel('Prediction Error (1 - Accuracy)')\n",
        "plt.legend(['Training', 'Validation'])"
      ],
      "metadata": {
        "id": "RxxVG61pAwhM"
      },
      "execution_count": null,
      "outputs": []
    },
    {
      "cell_type": "code",
      "source": [
        "model = DecisionTreeClassifier(max_depth= 7, random_state = 42).fit(X_train, train_targets)"
      ],
      "metadata": {
        "id": "Gh5JSOj0Awel"
      },
      "execution_count": null,
      "outputs": []
    },
    {
      "cell_type": "code",
      "source": [
        "model.score(X_val, val_targets)"
      ],
      "metadata": {
        "id": "S2ZZ5IPXAwb3"
      },
      "execution_count": null,
      "outputs": []
    },
    {
      "cell_type": "code",
      "source": [
        "model= DecisionTreeClassifier(max_leaf_nodes = 128, random_state = 42)"
      ],
      "metadata": {
        "id": "66ispcq5AwZA"
      },
      "execution_count": null,
      "outputs": []
    },
    {
      "cell_type": "code",
      "source": [
        "model.fit(X_train, train_targets)"
      ],
      "metadata": {
        "id": "jTJe8iz5AwWc"
      },
      "execution_count": null,
      "outputs": []
    },
    {
      "cell_type": "code",
      "source": [
        "model.score(X_train,train_targets)"
      ],
      "metadata": {
        "id": "caiiTrf-EdA5"
      },
      "execution_count": null,
      "outputs": []
    },
    {
      "cell_type": "code",
      "source": [
        "model.score(X_val, val_targets)"
      ],
      "metadata": {
        "id": "p19W6XjhAwT5"
      },
      "execution_count": null,
      "outputs": []
    },
    {
      "cell_type": "code",
      "source": [
        "model_text = export_text(model, feature_names=list(X_train.columns))\n",
        "print(model_text)"
      ],
      "metadata": {
        "id": "6xA4GJqeAwRJ"
      },
      "execution_count": null,
      "outputs": []
    },
    {
      "cell_type": "code",
      "source": [
        "from sklearn.ensemble import RandomForestClassifier\n",
        "model = RandomForestClassifier(n_jobs = -1, random_state = 42)\n",
        "\n"
      ],
      "metadata": {
        "id": "je5LVFyIAwOg"
      },
      "execution_count": null,
      "outputs": []
    },
    {
      "cell_type": "code",
      "source": [
        "model.fit(X_train, train_targets)"
      ],
      "metadata": {
        "id": "8rE-QgrLaR0e"
      },
      "execution_count": null,
      "outputs": []
    },
    {
      "cell_type": "code",
      "source": [
        "model.score(X_train, train_targets)\n"
      ],
      "metadata": {
        "id": "IzChSCD7aRxF"
      },
      "execution_count": null,
      "outputs": []
    },
    {
      "cell_type": "code",
      "source": [
        "model.score(X_val, val_targets)"
      ],
      "metadata": {
        "id": "GS3clsplaRuV"
      },
      "execution_count": null,
      "outputs": []
    },
    {
      "cell_type": "code",
      "source": [
        "train_probs = model.predict_proba(X_train)\n"
      ],
      "metadata": {
        "id": "4S1ZDNe_aRrg"
      },
      "execution_count": null,
      "outputs": []
    },
    {
      "cell_type": "code",
      "source": [
        "X_train.shape"
      ],
      "metadata": {
        "id": "fbaFyZgJby57"
      },
      "execution_count": null,
      "outputs": []
    },
    {
      "cell_type": "code",
      "source": [
        "train_probs.shape"
      ],
      "metadata": {
        "id": "A7E8Hp4KaRos"
      },
      "execution_count": null,
      "outputs": []
    },
    {
      "cell_type": "code",
      "source": [
        "model.estimators_[0]"
      ],
      "metadata": {
        "id": "T6GnNG7TaRlm"
      },
      "execution_count": null,
      "outputs": []
    },
    {
      "cell_type": "code",
      "source": [
        "plt.figure(figsize=(80,20))\n",
        "plot_tree(model.estimators_[0], max_depth=2, feature_names=X_train.columns, filled=True, rounded=True, class_names=model.classes_);"
      ],
      "metadata": {
        "id": "1t1qhRdFaRgE"
      },
      "execution_count": null,
      "outputs": []
    },
    {
      "cell_type": "code",
      "source": [
        "importance_df = pd.DataFrame({\n",
        "    'feature': X_train.columns,\n",
        "    'importance': model.feature_importances_\n",
        "}).sort_values('importance', ascending=False)"
      ],
      "metadata": {
        "id": "B7xh_2FhaRda"
      },
      "execution_count": null,
      "outputs": []
    },
    {
      "cell_type": "code",
      "source": [
        "importance_df"
      ],
      "metadata": {
        "id": "Q7dhLOdpaRYI"
      },
      "execution_count": null,
      "outputs": []
    },
    {
      "cell_type": "code",
      "source": [
        "sns.barplot(importance_df.head(10), x='importance', y='feature')"
      ],
      "metadata": {
        "id": "cAbvtDCWaRUo"
      },
      "execution_count": null,
      "outputs": []
    },
    {
      "cell_type": "code",
      "source": [
        "?RandomForestClassifier"
      ],
      "metadata": {
        "id": "qyhEgAlXaRR4"
      },
      "execution_count": null,
      "outputs": []
    },
    {
      "cell_type": "code",
      "source": [
        "base_model = RandomForestClassifier(random_state = 42, n_jobs=-1).fit(X_train, train_targets)"
      ],
      "metadata": {
        "id": "2ua9yGeBvl5l"
      },
      "execution_count": null,
      "outputs": []
    },
    {
      "cell_type": "code",
      "source": [
        "base_model.score(X_train, train_targets)\n"
      ],
      "metadata": {
        "id": "DWjj0HLIvl2A"
      },
      "execution_count": null,
      "outputs": []
    },
    {
      "cell_type": "code",
      "source": [
        "base_model.score(X_val, val_targets)"
      ],
      "metadata": {
        "id": "1BFzWq9rvlzS"
      },
      "execution_count": null,
      "outputs": []
    },
    {
      "cell_type": "code",
      "source": [
        "model = RandomForestClassifier(random_state = 42, n_jobs=-1, n_estimators=10).fit(X_train, train_targets)"
      ],
      "metadata": {
        "id": "QCVO27cYvlw1"
      },
      "execution_count": null,
      "outputs": []
    },
    {
      "cell_type": "code",
      "source": [
        "model.score(X_train, train_targets), model.score(X_val, val_targets)"
      ],
      "metadata": {
        "id": "PfnXJDVevluJ"
      },
      "execution_count": null,
      "outputs": []
    },
    {
      "cell_type": "code",
      "source": [
        "model = RandomForestClassifier(random_state = 42, n_jobs=-1, n_estimators=500).fit(X_train, train_targets)"
      ],
      "metadata": {
        "id": "bTkoYUDevlrd"
      },
      "execution_count": null,
      "outputs": []
    },
    {
      "cell_type": "code",
      "source": [
        "model.score(X_train, train_targets), model.score(X_val, val_targets)"
      ],
      "metadata": {
        "id": "Ls0aQRH8vlpP"
      },
      "execution_count": null,
      "outputs": []
    },
    {
      "cell_type": "code",
      "source": [
        "def test_params(**params):\n",
        "  model = RandomForestClassifier(random_state = 42, n_jobs=-1, **params).fit(X_train, train_targets)\n",
        "  return model.score(X_train, train_targets), model.score(X_val, val_targets)"
      ],
      "metadata": {
        "id": "IgSV7KsKvlmn"
      },
      "execution_count": null,
      "outputs": []
    },
    {
      "cell_type": "markdown",
      "source": [],
      "metadata": {
        "id": "KWOVfssT16k8"
      }
    },
    {
      "cell_type": "code",
      "source": [
        "test_params(max_features = 'log2')"
      ],
      "metadata": {
        "id": "Zq-miTtByiTO"
      },
      "execution_count": null,
      "outputs": []
    },
    {
      "cell_type": "code",
      "source": [
        "test_params(max_features = 3)"
      ],
      "metadata": {
        "id": "3Wfvco4RyiP3"
      },
      "execution_count": null,
      "outputs": []
    },
    {
      "cell_type": "code",
      "source": [
        "test_params(min_samples_split=3, min_samples_leaf=2)"
      ],
      "metadata": {
        "id": "FQ0DOFrV1ru_"
      },
      "execution_count": null,
      "outputs": []
    },
    {
      "cell_type": "code",
      "source": [
        "test_params(min_impurity_decrease=1e-6)"
      ],
      "metadata": {
        "id": "NE0iheG71rrb"
      },
      "execution_count": null,
      "outputs": []
    },
    {
      "cell_type": "code",
      "source": [
        "test_params(bootstrap = False)"
      ],
      "metadata": {
        "id": "QCcguIdz1roI"
      },
      "execution_count": null,
      "outputs": []
    },
    {
      "cell_type": "code",
      "source": [
        "test_params(max_samples = 0.9)"
      ],
      "metadata": {
        "id": "c7mUpxxb1rbQ"
      },
      "execution_count": null,
      "outputs": []
    },
    {
      "cell_type": "code",
      "source": [
        "model.classes_"
      ],
      "metadata": {
        "id": "fMg5yLha5AKZ"
      },
      "execution_count": null,
      "outputs": []
    },
    {
      "cell_type": "code",
      "source": [
        "test_params(class_weight ='balanced')"
      ],
      "metadata": {
        "id": "AMCtS6Ch5AG_"
      },
      "execution_count": null,
      "outputs": []
    },
    {
      "cell_type": "code",
      "source": [
        "test_params(class_weight ={'No': 1, 'Yes': 2})"
      ],
      "metadata": {
        "id": "QjkyQXVG5AEC"
      },
      "execution_count": null,
      "outputs": []
    },
    {
      "cell_type": "code",
      "source": [
        "model = RandomForestClassifier(n_jobs = -1, random_state = 42, n_estimators= 500, max_features = 7, max_depth = 30, class_weight={'No': 1, 'Yes':1.5})"
      ],
      "metadata": {
        "id": "u5UrFfk95ABk"
      },
      "execution_count": null,
      "outputs": []
    },
    {
      "cell_type": "code",
      "source": [
        "model.fit(X_train, train_targets)"
      ],
      "metadata": {
        "id": "AVJNYeV14_9p"
      },
      "execution_count": null,
      "outputs": []
    },
    {
      "cell_type": "code",
      "source": [
        "model.score(X_train, train_targets), model.score(X_val, val_targets)"
      ],
      "metadata": {
        "id": "QIHgCciV4_6q"
      },
      "execution_count": null,
      "outputs": []
    },
    {
      "cell_type": "code",
      "source": [
        "model.score(X_test, test_targets)"
      ],
      "metadata": {
        "id": "M2P94nAX4_3y"
      },
      "execution_count": null,
      "outputs": []
    },
    {
      "cell_type": "code",
      "source": [
        "def predcit_input(single_input):\n",
        "  input_df = pd.DataFrame([single_input])\n",
        "  input_df[nnumeric_cols] = imputer.transform(input_df[numeric_cols])\n",
        "  input_df[numeric_cols] = scaler.transform(input_df[numeric_cols])\n",
        "  input_df[encoded_cols] = encoder.transform(input_df[categorical_cols])\n",
        "  X_input = input_df[numeric_cols + encoded_cols]\n",
        "  pred - model.predict(X_input)[0]\n",
        "  prob = model.predict_prob(X_input)[0][list(model.classes_).index(pred)]\n",
        "\n",
        "  return {'Prediction': pred, 'Probability': prob}"
      ],
      "metadata": {
        "id": "HGDRtu1J7EoK"
      },
      "execution_count": null,
      "outputs": []
    }
  ]
}